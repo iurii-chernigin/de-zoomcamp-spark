{
 "cells": [
  {
   "cell_type": "code",
   "execution_count": 97,
   "id": "4378c422",
   "metadata": {},
   "outputs": [],
   "source": [
    "from pyspark.sql import SparkSession\n",
    "from pyspark.sql import types, functions as F\n",
    "from datetime import datetime, timedelta\n",
    "from collections import namedtuple"
   ]
  },
  {
   "cell_type": "code",
   "execution_count": 4,
   "id": "cb776cf0",
   "metadata": {},
   "outputs": [
    {
     "name": "stderr",
     "output_type": "stream",
     "text": [
      "Setting default log level to \"WARN\".\n",
      "To adjust logging level use sc.setLogLevel(newLevel). For SparkR, use setLogLevel(newLevel).\n"
     ]
    },
    {
     "name": "stdout",
     "output_type": "stream",
     "text": [
      "23/03/08 12:29:34 WARN NativeCodeLoader: Unable to load native-hadoop library for your platform... using builtin-java classes where applicable\n"
     ]
    }
   ],
   "source": [
    "spark = SparkSession.builder \\\n",
    "                    .master(\"local[*]\") \\\n",
    "                    .appName(\"fhvhv-analyze-rdds\") \\\n",
    "                    .getOrCreate()"
   ]
  },
  {
   "cell_type": "code",
   "execution_count": 91,
   "id": "b64894af",
   "metadata": {},
   "outputs": [],
   "source": [
    "trips_df = spark.read.parquet(\"../data/stage/*\")"
   ]
  },
  {
   "cell_type": "code",
   "execution_count": 93,
   "id": "797462a7",
   "metadata": {},
   "outputs": [
    {
     "data": {
      "text/plain": [
       "StructType([StructField('dispatching_base_num', StringType(), True), StructField('pickup_datetime', TimestampType(), True), StructField('dropoff_datetime', TimestampType(), True), StructField('PULocationID', IntegerType(), True), StructField('DOLocationID', IntegerType(), True), StructField('SR_Flag', StringType(), True), StructField('Affiliated_base_number', StringType(), True)])"
      ]
     },
     "execution_count": 93,
     "metadata": {},
     "output_type": "execute_result"
    }
   ],
   "source": [
    "trips_df.schema"
   ]
  },
  {
   "cell_type": "code",
   "execution_count": 55,
   "id": "57394043",
   "metadata": {},
   "outputs": [],
   "source": [
    "def filter_report_date(row):\n",
    "    \"\"\" Gets RDD row and check the date outliers\"\"\"\n",
    "    report_date = datetime(year=2021, month=6, day=15).date()\n",
    "    pickup_date = row.pickup_datetime.date()\n",
    "    \n",
    "    return pickup_date == report_date\n",
    "    "
   ]
  },
  {
   "cell_type": "code",
   "execution_count": 78,
   "id": "bb1cebc2",
   "metadata": {},
   "outputs": [],
   "source": [
    "def transform(row):\n",
    "    # Keys\n",
    "    pickup_hour = row.pickup_datetime.replace(second=0, minute=0, microsecond=0)\n",
    "    pickup_zone = row.PULocationID \n",
    "    # Metrics\n",
    "    trip_duration = (row.dropoff_datetime - row.pickup_datetime).total_seconds()\n",
    "    trip_count = 1\n",
    "    \n",
    "    return ((pickup_hour, pickup_zone), (trip_duration, trip_count))"
   ]
  },
  {
   "cell_type": "code",
   "execution_count": 79,
   "id": "9f1591c8",
   "metadata": {},
   "outputs": [],
   "source": [
    "def calculate_metrics(left_values, right_values):\n",
    "    left_duration, left_count = left_values\n",
    "    right_duration, right_count = right_values\n",
    "    \n",
    "    trips_duration_sum = left_duration + right_duration\n",
    "    trips_count_sum = left_count + right_count\n",
    "    \n",
    "    return (trips_duration_sum, trips_count_sum)"
   ]
  },
  {
   "cell_type": "code",
   "execution_count": 89,
   "id": "87b9f6ad",
   "metadata": {},
   "outputs": [],
   "source": [
    "def unwrap(row):\n",
    "    TripsStatisticTuple = namedtuple(\n",
    "        \"TripsStatisticTuple\", \n",
    "        [\"pickup_hour\", \"pickup_zone\", \"all_trips_duration_hours\", \"total_trips\"]\n",
    "    )\n",
    "    return TripsStatisticTuple(row[0][0], row[0][1], round(row[1][0] / 60 / 60, 2), row[1][1])"
   ]
  },
  {
   "cell_type": "code",
   "execution_count": 100,
   "id": "56a83a95",
   "metadata": {},
   "outputs": [],
   "source": [
    "columns = ['pickup_datetime', 'dropoff_datetime', 'PULocationID']"
   ]
  },
  {
   "cell_type": "code",
   "execution_count": 101,
   "id": "e58aaa49",
   "metadata": {},
   "outputs": [],
   "source": [
    "report_schema = types.StructType([\n",
    "    types.StructField('pickup_hour', types.TimestampType(), True),\n",
    "    types.StructField('pickup_zone', types.IntegerType(), True), \n",
    "    types.StructField('all_trips_duration_hours', types.DoubleType(), True), \n",
    "    types.StructField('total_trips', types.IntegerType(), True)\n",
    "])"
   ]
  },
  {
   "cell_type": "code",
   "execution_count": 102,
   "id": "8e68bade",
   "metadata": {},
   "outputs": [],
   "source": [
    "statistic_df = trips_df \\\n",
    "    .select(columns) \\\n",
    "    .rdd \\\n",
    "    .filter(filter_report_date) \\\n",
    "    .map(transform) \\\n",
    "    .reduceByKey(calculate_metrics) \\\n",
    "    .map(unwrap) \\\n",
    "    .toDF(report_schema)"
   ]
  },
  {
   "cell_type": "code",
   "execution_count": 104,
   "id": "6893c02b",
   "metadata": {},
   "outputs": [
    {
     "name": "stdout",
     "output_type": "stream",
     "text": [
      "+-------------------+-----------+------------------------+-----------+\n",
      "|        pickup_hour|pickup_zone|all_trips_duration_hours|total_trips|\n",
      "+-------------------+-----------+------------------------+-----------+\n",
      "|2021-06-15 08:00:00|        145|                   56.89|        152|\n",
      "|2021-06-15 15:00:00|        151|                    36.8|         82|\n",
      "|2021-06-15 15:00:00|        231|                   98.56|        248|\n",
      "|2021-06-15 12:00:00|          7|                    57.2|        180|\n",
      "|2021-06-15 08:00:00|         21|                   32.27|        101|\n",
      "|2021-06-15 01:00:00|         10|                    5.65|         26|\n",
      "|2021-06-15 19:00:00|         21|                   16.95|         71|\n",
      "|2021-06-15 19:00:00|        133|                   12.25|         47|\n",
      "|2021-06-15 19:00:00|         25|                   46.81|        158|\n",
      "|2021-06-15 22:00:00|        191|                   11.76|         51|\n",
      "|2021-06-15 11:00:00|        155|                   23.23|         88|\n",
      "|2021-06-15 11:00:00|        123|                   22.37|         83|\n",
      "|2021-06-15 14:00:00|         66|                   28.92|         77|\n",
      "|2021-06-15 11:00:00|        237|                   78.97|        249|\n",
      "|2021-06-15 13:00:00|        228|                   35.87|        106|\n",
      "|2021-06-15 19:00:00|        173|                    9.98|         42|\n",
      "|2021-06-15 22:00:00|         37|                   74.72|        273|\n",
      "|2021-06-15 14:00:00|        232|                   40.55|        124|\n",
      "|2021-06-15 17:00:00|        132|                  222.05|        309|\n",
      "|2021-06-15 19:00:00|        177|                   33.65|        110|\n",
      "|2021-06-15 05:00:00|        124|                    4.94|         20|\n",
      "|2021-06-15 23:00:00|         26|                    24.7|        107|\n",
      "|2021-06-15 15:00:00|        165|                   36.22|        101|\n",
      "|2021-06-15 21:00:00|         68|                    65.0|        218|\n",
      "+-------------------+-----------+------------------------+-----------+\n",
      "only showing top 24 rows\n",
      "\n"
     ]
    }
   ],
   "source": [
    "statistic_df.show(24)"
   ]
  },
  {
   "cell_type": "code",
   "execution_count": 108,
   "id": "4dc9536e",
   "metadata": {},
   "outputs": [
    {
     "name": "stdout",
     "output_type": "stream",
     "text": [
      "+-------------------+-----------+------------------------+-----------+\n",
      "|        pickup_hour|pickup_zone|all_trips_duration_hours|total_trips|\n",
      "+-------------------+-----------+------------------------+-----------+\n",
      "|2021-06-15 18:00:00|        161|                  224.58|        515|\n",
      "|2021-06-15 17:00:00|        161|                  248.18|        493|\n",
      "|2021-06-15 23:00:00|        181|                  215.39|        489|\n",
      "|2021-06-15 18:00:00|        162|                  186.47|        469|\n",
      "|2021-06-15 21:00:00|        132|                  257.79|        466|\n",
      "|2021-06-15 14:00:00|        138|                  301.97|        462|\n",
      "|2021-06-15 21:00:00|        161|                  141.18|        457|\n",
      "|2021-06-15 19:00:00|        161|                  161.42|        446|\n",
      "|2021-06-15 19:00:00|         61|                  125.81|        436|\n",
      "|2021-06-15 00:00:00|        132|                   198.2|        432|\n",
      "|2021-06-15 18:00:00|         61|                  138.45|        432|\n",
      "|2021-06-15 19:00:00|        231|                  124.47|        427|\n",
      "|2021-06-15 22:00:00|         61|                  111.79|        422|\n",
      "|2021-06-15 20:00:00|        132|                  214.43|        412|\n",
      "|2021-06-15 17:00:00|        138|                  283.51|        407|\n",
      "|2021-06-15 20:00:00|         61|                  106.98|        402|\n",
      "|2021-06-15 17:00:00|        162|                  198.66|        400|\n",
      "|2021-06-15 21:00:00|         61|                   102.2|        399|\n",
      "|2021-06-15 22:00:00|         79|                  119.42|        394|\n",
      "|2021-06-15 20:00:00|        161|                  124.42|        393|\n",
      "|2021-06-15 15:00:00|        132|                  327.06|        388|\n",
      "|2021-06-15 22:00:00|        132|                  192.63|        376|\n",
      "|2021-06-15 21:00:00|         79|                  102.91|        375|\n",
      "|2021-06-15 22:00:00|        249|                  100.55|        372|\n",
      "+-------------------+-----------+------------------------+-----------+\n",
      "only showing top 24 rows\n",
      "\n"
     ]
    }
   ],
   "source": [
    "statistic_df.orderBy(F.desc(\"total_trips\")).show(24)"
   ]
  },
  {
   "cell_type": "code",
   "execution_count": 110,
   "id": "9e4b4ccb",
   "metadata": {},
   "outputs": [],
   "source": [
    "trips_df.createOrReplaceTempView(\"trips\")"
   ]
  },
  {
   "cell_type": "code",
   "execution_count": 127,
   "id": "d0f4a24c",
   "metadata": {},
   "outputs": [
    {
     "name": "stderr",
     "output_type": "stream",
     "text": [
      "[Stage 73:======================================>                   (4 + 2) / 6]\r"
     ]
    },
    {
     "name": "stdout",
     "output_type": "stream",
     "text": [
      "+-----------+-------------------+-----------------------+-----------+\n",
      "|pickup_zone|        pickup_hour|all_trips_duration_hour|total_trips|\n",
      "+-----------+-------------------+-----------------------+-----------+\n",
      "|        161|2021-06-15 18:00:00|                 224.58|        515|\n",
      "|        161|2021-06-15 17:00:00|                 248.18|        493|\n",
      "|        181|2021-06-15 23:00:00|                 215.39|        489|\n",
      "|        162|2021-06-15 18:00:00|                 186.47|        469|\n",
      "|        132|2021-06-15 21:00:00|                 257.79|        466|\n",
      "|        138|2021-06-15 14:00:00|                 301.97|        462|\n",
      "|        161|2021-06-15 21:00:00|                 141.18|        457|\n",
      "|        161|2021-06-15 19:00:00|                 161.42|        446|\n",
      "|         61|2021-06-15 19:00:00|                 125.81|        436|\n",
      "|         61|2021-06-15 18:00:00|                 138.45|        432|\n",
      "|        132|2021-06-15 00:00:00|                  198.2|        432|\n",
      "|        231|2021-06-15 19:00:00|                 124.47|        427|\n",
      "|         61|2021-06-15 22:00:00|                 111.79|        422|\n",
      "|        132|2021-06-15 20:00:00|                 214.43|        412|\n",
      "|        138|2021-06-15 17:00:00|                 283.51|        407|\n",
      "|         61|2021-06-15 20:00:00|                 106.98|        402|\n",
      "|        162|2021-06-15 17:00:00|                 198.66|        400|\n",
      "|         61|2021-06-15 21:00:00|                  102.2|        399|\n",
      "|         79|2021-06-15 22:00:00|                 119.42|        394|\n",
      "|        161|2021-06-15 20:00:00|                 124.42|        393|\n",
      "|        132|2021-06-15 15:00:00|                 327.06|        388|\n",
      "|        132|2021-06-15 22:00:00|                 192.63|        376|\n",
      "|         79|2021-06-15 21:00:00|                 102.91|        375|\n",
      "|        249|2021-06-15 22:00:00|                 100.55|        372|\n",
      "+-----------+-------------------+-----------------------+-----------+\n",
      "only showing top 24 rows\n",
      "\n"
     ]
    },
    {
     "name": "stderr",
     "output_type": "stream",
     "text": [
      "\r",
      "                                                                                \r"
     ]
    }
   ],
   "source": [
    "spark.sql(\"\"\"\n",
    "\n",
    "WITH transformed_trips as (\n",
    "\n",
    "    SELECT \n",
    "\n",
    "        PULocationID AS pickup_zone,\n",
    "        DATE_TRUNC('hour', pickup_datetime) AS pickup_hour,\n",
    "        UNIX_TIMESTAMP(dropoff_datetime) - UNIX_TIMESTAMP(pickup_datetime) as duration_sec\n",
    "\n",
    "    FROM trips\n",
    "    WHERE DATE(pickup_datetime) = '2021-06-15'\n",
    "\n",
    ")\n",
    "\n",
    "SELECT \n",
    "\n",
    "    pickup_zone,\n",
    "    pickup_hour,\n",
    "    \n",
    "    ROUND(\n",
    "        SUM(duration_sec) / 60 / 60,\n",
    "        2\n",
    "    )             AS all_trips_duration_hour,\n",
    "    COUNT(*)      AS total_trips\n",
    "\n",
    "FROM transformed_trips\n",
    "GROUP BY 1, 2\n",
    "ORDER BY total_trips DESC\n",
    "\n",
    "\"\"\").show(24)"
   ]
  }
 ],
 "metadata": {
  "kernelspec": {
   "display_name": "Python 3 (ipykernel)",
   "language": "python",
   "name": "python3"
  },
  "language_info": {
   "codemirror_mode": {
    "name": "ipython",
    "version": 3
   },
   "file_extension": ".py",
   "mimetype": "text/x-python",
   "name": "python",
   "nbconvert_exporter": "python",
   "pygments_lexer": "ipython3",
   "version": "3.9.13"
  }
 },
 "nbformat": 4,
 "nbformat_minor": 5
}
